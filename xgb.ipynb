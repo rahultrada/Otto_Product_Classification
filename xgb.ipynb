{
  "nbformat": 4,
  "nbformat_minor": 0,
  "metadata": {
    "colab": {
      "name": "xgb.ipynb",
      "provenance": [],
      "collapsed_sections": [],
      "machine_shape": "hm",
      "authorship_tag": "ABX9TyO9pe7nKY5jP2R+UcZ98Z3W",
      "include_colab_link": true
    },
    "kernelspec": {
      "name": "python3",
      "display_name": "Python 3"
    },
    "accelerator": "GPU"
  },
  "cells": [
    {
      "cell_type": "markdown",
      "metadata": {
        "id": "view-in-github",
        "colab_type": "text"
      },
      "source": [
        "<a href=\"https://colab.research.google.com/github/rahultrada/Otto_Product_Classification/blob/main/xgb.ipynb\" target=\"_parent\"><img src=\"https://colab.research.google.com/assets/colab-badge.svg\" alt=\"Open In Colab\"/></a>"
      ]
    },
    {
      "cell_type": "code",
      "metadata": {
        "id": "H7QFq7-rXERu"
      },
      "source": [
        "import time\n",
        "import numpy as np\n",
        "import pandas as pd\n",
        "from sklearn.calibration import CalibratedClassifierCV\n",
        "from sklearn.model_selection import StratifiedKFold, train_test_split, StratifiedShuffleSplit, GridSearchCV, RandomizedSearchCV\n",
        "from sklearn.metrics import log_loss\n",
        "from sklearn.preprocessing import StandardScaler\n",
        "from sklearn.decomposition import PCA\n",
        "from sklearn.manifold import TSNE\n",
        "from sklearn.linear_model import LogisticRegression\n",
        "from sklearn.ensemble import RandomForestClassifier, ExtraTreesClassifier\n",
        "from sklearn.neighbors import KNeighborsClassifier\n",
        "import matplotlib.pyplot as plt\n",
        "import xgboost as xgb\n",
        "import pickle"
      ],
      "execution_count": null,
      "outputs": []
    },
    {
      "cell_type": "code",
      "metadata": {
        "id": "f6XsuzXonk7n",
        "colab": {
          "base_uri": "https://localhost:8080/",
          "height": 122
        },
        "outputId": "b70a9dec-4b70-4e85-9ab8-0c03835c10b7"
      },
      "source": [
        "from google.colab import drive\n",
        "drive.mount('/content/drive')"
      ],
      "execution_count": null,
      "outputs": [
        {
          "output_type": "stream",
          "text": [
            "Go to this URL in a browser: https://accounts.google.com/o/oauth2/auth?client_id=947318989803-6bn6qk8qdgf4n4g3pfee6491hc0brc4i.apps.googleusercontent.com&redirect_uri=urn%3aietf%3awg%3aoauth%3a2.0%3aoob&response_type=code&scope=email%20https%3a%2f%2fwww.googleapis.com%2fauth%2fdocs.test%20https%3a%2f%2fwww.googleapis.com%2fauth%2fdrive%20https%3a%2f%2fwww.googleapis.com%2fauth%2fdrive.photos.readonly%20https%3a%2f%2fwww.googleapis.com%2fauth%2fpeopleapi.readonly\n",
            "\n",
            "Enter your authorization code:\n",
            "··········\n",
            "Mounted at /content/drive\n"
          ],
          "name": "stdout"
        }
      ]
    },
    {
      "cell_type": "code",
      "metadata": {
        "id": "dlo2eJjFXi3v"
      },
      "source": [
        "traindata = pd.read_csv('drive/My Drive/Colab Notebooks/Applied ML/train.csv')\n",
        "testdata = pd.read_csv('drive/My Drive/Colab Notebooks/Applied ML/test.csv')"
      ],
      "execution_count": null,
      "outputs": []
    },
    {
      "cell_type": "code",
      "metadata": {
        "id": "f_zdDhSBXxkt"
      },
      "source": [
        "trainys = traindata['target'].str[-1].astype(int) - 1 #convert 'class 1-9' to ints 0-8\n",
        "trainxs = traindata.drop(['id', 'target'], axis=1)\n",
        "testdata = testdata.drop(['id'], axis=1);"
      ],
      "execution_count": null,
      "outputs": []
    },
    {
      "cell_type": "code",
      "metadata": {
        "id": "ufpgo4V_q0Jv"
      },
      "source": [
        "X = trainxs.values\n",
        "y = trainys.values\n",
        "testx = testdata.values"
      ],
      "execution_count": null,
      "outputs": []
    },
    {
      "cell_type": "code",
      "metadata": {
        "id": "PQhFJwMNL1N9"
      },
      "source": [
        "#try log preprocessing\n",
        "Xlog = np.log1p(X)"
      ],
      "execution_count": null,
      "outputs": []
    },
    {
      "cell_type": "code",
      "metadata": {
        "id": "cKUEU7k46vqd"
      },
      "source": [
        "sss = StratifiedShuffleSplit(n_splits=1, test_size=0.20, random_state=0)\n",
        "for train_index, test_index in sss.split(Xlog, y):\n",
        "    x_train = Xlog[train_index]\n",
        "    x_valid = Xlog[test_index]\n",
        "    y_train = y[train_index]\n",
        "    y_valid = y[test_index]\n"
      ],
      "execution_count": null,
      "outputs": []
    },
    {
      "cell_type": "code",
      "metadata": {
        "id": "lyu-u4Dt_jXR",
        "colab": {
          "base_uri": "https://localhost:8080/",
          "height": 105
        },
        "outputId": "85074030-86fe-49f6-cf49-6d64e58c433e"
      },
      "source": [
        "m1 = LogisticRegression(penalty='l1', solver='liblinear', n_jobs=-1, C=0.43, class_weight=None)\n",
        "m2 = LogisticRegression(penalty='l2', solver='lbfgs', n_jobs=-1, C=0.01, class_weight=None, multi_class='multinomial')\n",
        "for m in [m1,m2]:\n",
        "  m.fit(x_train,y_train)\n",
        "  print(log_loss(y_valid, m.predict_proba(x_valid)))"
      ],
      "execution_count": null,
      "outputs": [
        {
          "output_type": "stream",
          "text": [
            "/usr/local/lib/python3.6/dist-packages/sklearn/linear_model/_logistic.py:1539: UserWarning: 'n_jobs' > 1 does not have any effect when 'solver' is set to 'liblinear'. Got 'n_jobs' = 2.\n",
            "  \" = {}.\".format(effective_n_jobs(self.n_jobs)))\n"
          ],
          "name": "stderr"
        },
        {
          "output_type": "stream",
          "text": [
            "0.6637489799836348\n",
            "0.6437697306216276\n"
          ],
          "name": "stdout"
        }
      ]
    },
    {
      "cell_type": "code",
      "metadata": {
        "id": "WYXEWHKGNGjY"
      },
      "source": [
        "#try sqrt preprocessing\n",
        "Xsqrt = np.sqrt(X + 3.0/8)\n",
        "sss = StratifiedShuffleSplit(n_splits=1, test_size=0.20, random_state=0)\n",
        "for train_index, test_index in sss.split(Xsqrt, y):\n",
        "    x_train = Xsqrt[train_index]\n",
        "    x_valid = Xsqrt[test_index]\n",
        "    y_train = y[train_index]\n",
        "    y_valid = y[test_index]"
      ],
      "execution_count": null,
      "outputs": []
    },
    {
      "cell_type": "code",
      "metadata": {
        "id": "ut3OSpEcNU80",
        "colab": {
          "base_uri": "https://localhost:8080/",
          "height": 105
        },
        "outputId": "eccd1c0b-40f5-4c40-f2af-3e93da79d68c"
      },
      "source": [
        "m1 = LogisticRegression(penalty='l1', solver='liblinear', n_jobs=-1, C=0.43, class_weight=None)\n",
        "m2 = LogisticRegression(penalty='l2', solver='lbfgs', n_jobs=-1, C=0.01, class_weight=None, multi_class='multinomial')\n",
        "for m in [m1,m2]:\n",
        "  m.fit(x_train,y_train)\n",
        "  print(log_loss(y_valid, m.predict_proba(x_valid)))"
      ],
      "execution_count": null,
      "outputs": [
        {
          "output_type": "stream",
          "text": [
            "/usr/local/lib/python3.6/dist-packages/sklearn/linear_model/_logistic.py:1539: UserWarning: 'n_jobs' > 1 does not have any effect when 'solver' is set to 'liblinear'. Got 'n_jobs' = 2.\n",
            "  \" = {}.\".format(effective_n_jobs(self.n_jobs)))\n"
          ],
          "name": "stderr"
        },
        {
          "output_type": "stream",
          "text": [
            "0.6533877454618872\n",
            "0.6420435025134322\n"
          ],
          "name": "stdout"
        }
      ]
    },
    {
      "cell_type": "code",
      "metadata": {
        "id": "nlDg31_uOdC9",
        "colab": {
          "base_uri": "https://localhost:8080/",
          "height": 105
        },
        "outputId": "71ca92c6-8543-4456-eb14-655fd7493bd0"
      },
      "source": [
        "#try no preprocessing\n",
        "sss = StratifiedShuffleSplit(n_splits=1, test_size=0.20, random_state=0)\n",
        "for train_index, test_index in sss.split(X, y):\n",
        "    x_train = X[train_index]\n",
        "    x_valid = X[test_index]\n",
        "    y_train = y[train_index]\n",
        "    y_valid = y[test_index]\n",
        "m1 = LogisticRegression(penalty='l1', solver='liblinear', n_jobs=-1, C=0.43, class_weight=None)\n",
        "m2 = LogisticRegression(penalty='l2', solver='lbfgs', n_jobs=-1, C=0.01, class_weight=None, multi_class='multinomial')\n",
        "for m in [m1,m2]:\n",
        "  m.fit(x_train,y_train)\n",
        "  print(log_loss(y_valid, m.predict_proba(x_valid)))"
      ],
      "execution_count": null,
      "outputs": [
        {
          "output_type": "stream",
          "text": [
            "/usr/local/lib/python3.6/dist-packages/sklearn/linear_model/_logistic.py:1539: UserWarning: 'n_jobs' > 1 does not have any effect when 'solver' is set to 'liblinear'. Got 'n_jobs' = 2.\n",
            "  \" = {}.\".format(effective_n_jobs(self.n_jobs)))\n"
          ],
          "name": "stderr"
        },
        {
          "output_type": "stream",
          "text": [
            "0.6586355869812888\n",
            "0.6314476106275256\n"
          ],
          "name": "stdout"
        }
      ]
    },
    {
      "cell_type": "code",
      "metadata": {
        "id": "gjPkSuvrOs74",
        "colab": {
          "base_uri": "https://localhost:8080/",
          "height": 105
        },
        "outputId": "baaf08c1-c7ed-4459-d05d-97b83df6db25"
      },
      "source": [
        "#try standard scaling \n",
        "sss = StratifiedShuffleSplit(n_splits=1, test_size=0.20, random_state=0)\n",
        "for train_index, test_index in sss.split(X, y):\n",
        "    x_train = X[train_index]\n",
        "    x_valid = X[test_index]\n",
        "    y_train = y[train_index]\n",
        "    y_valid = y[test_index]\n",
        "from sklearn import preprocessing\n",
        "scaler = preprocessing.StandardScaler()\n",
        "scaler.fit(x_train)\n",
        "x_train_scaled = scaler.transform(x_train)\n",
        "x_valid_scaled = scaler.transform(x_valid)\n",
        "m1 = LogisticRegression(penalty='l1', solver='liblinear', n_jobs=-1, C=0.43, class_weight=None)\n",
        "m2 = LogisticRegression(penalty='l2', solver='lbfgs', n_jobs=-1, C=0.01, class_weight=None, multi_class='multinomial')\n",
        "for m in [m1,m2]:\n",
        "  m.fit(x_train_scaled,y_train)\n",
        "  print(log_loss(y_valid, m.predict_proba(x_valid_scaled)))"
      ],
      "execution_count": null,
      "outputs": [
        {
          "output_type": "stream",
          "text": [
            "/usr/local/lib/python3.6/dist-packages/sklearn/linear_model/_logistic.py:1539: UserWarning: 'n_jobs' > 1 does not have any effect when 'solver' is set to 'liblinear'. Got 'n_jobs' = 2.\n",
            "  \" = {}.\".format(effective_n_jobs(self.n_jobs)))\n"
          ],
          "name": "stderr"
        },
        {
          "output_type": "stream",
          "text": [
            "0.660594763862559\n",
            "0.6527488790084442\n"
          ],
          "name": "stdout"
        }
      ]
    },
    {
      "cell_type": "code",
      "metadata": {
        "id": "SFFHTMNyRAHw"
      },
      "source": [
        "#try no preprocessing + gridsearch\n",
        "sss = StratifiedShuffleSplit(n_splits=1, test_size=0.20, random_state=0)\n",
        "for train_index, test_index in sss.split(X, y):\n",
        "    x_train = X[train_index]\n",
        "    x_valid = X[test_index]\n",
        "    y_train = y[train_index]\n",
        "    y_valid = y[test_index]\n",
        "\n",
        "# C = np.logspace(-4, 4, 10)\n",
        "# multi_class = ['auto', 'multinomial']\n",
        "# hyperparameters = dict(C=C, multi_class=multi_class)\n",
        "# m = LogisticRegression(n_jobs=-1)\n",
        "# clf = GridSearchCV(m, hyperparameters, scoring='neg_log_loss',cv=3, verbose=10)\n",
        "# best_model = clf.fit(X, y)\n",
        "# print(best_model.best_estimator_.get_params())"
      ],
      "execution_count": null,
      "outputs": []
    },
    {
      "cell_type": "code",
      "metadata": {
        "id": "_1o_lbT4aYNo",
        "colab": {
          "base_uri": "https://localhost:8080/",
          "height": 34
        },
        "outputId": "132ced51-2623-44d4-c3be-c61243e3cab8"
      },
      "source": [
        "#train best model from grid search on our split data\n",
        "m = LogisticRegression(penalty='l2', solver='lbfgs', n_jobs=-1, C=0.0464, class_weight=None, multi_class='auto')\n",
        "m.fit(x_train,y_train)\n",
        "print(log_loss(y_valid, m.predict_proba(x_valid)))"
      ],
      "execution_count": null,
      "outputs": [
        {
          "output_type": "stream",
          "text": [
            "0.6294769277036631\n"
          ],
          "name": "stdout"
        }
      ]
    },
    {
      "cell_type": "code",
      "metadata": {
        "id": "ptzhN4L1l_T5"
      },
      "source": [
        "np.savetxt('drive/My Drive/logregtrain.txt',m.predict_proba(x_train))\n",
        "np.savetxt('drive/My Drive/logregvalid.txt',m.predict_proba(x_valid))\n",
        "np.savetxt('drive/My Drive/logregtest.txt',m.predict_proba(testx))"
      ],
      "execution_count": null,
      "outputs": []
    },
    {
      "cell_type": "code",
      "metadata": {
        "id": "8UA7yS0nbLRt"
      },
      "source": [
        "#now xgboost\n",
        "import xgboost as xgb\n",
        "#using log preprocessing\n",
        "Xsqrt = np.sqrt(X+3.0/8)\n",
        "sss = StratifiedShuffleSplit(n_splits=1, test_size=0.20, random_state=0)\n",
        "for train_index, test_index in sss.split(Xsqrt, y):\n",
        "    x_train = Xsqrt[train_index]\n",
        "    x_valid = Xsqrt[test_index]\n",
        "    y_train = y[train_index]\n",
        "    y_valid = y[test_index]"
      ],
      "execution_count": null,
      "outputs": []
    },
    {
      "cell_type": "code",
      "metadata": {
        "id": "MeqlopZEIwTt",
        "colab": {
          "base_uri": "https://localhost:8080/",
          "height": 34
        },
        "outputId": "ec1be731-6772-43f6-f88a-8441449bc75a"
      },
      "source": [
        "#SWITCH TO GPU!\n",
        "m = xgb.XGBClassifier(learning_rate =0.1, n_estimators=525, max_depth=8, min_child_weight=3, subsample=0.7, \n",
        "                      colsample_bytree=0.7, nthread=4, seed=42, objective='multi:softprob',\n",
        "                      tree_method='gpu_hist')\n",
        "m = xgb.XGBClassifier(objective = 'multi:softprob', tree_method='gpu_hist')#rrr\n",
        "m.fit(x_train, y_train)\n",
        "print(log_loss(y_valid, m.predict_proba(x_valid)))"
      ],
      "execution_count": null,
      "outputs": [
        {
          "output_type": "stream",
          "text": [
            "0.6413419997657951\n"
          ],
          "name": "stdout"
        }
      ]
    },
    {
      "cell_type": "code",
      "metadata": {
        "id": "ydip_bx3NTZW"
      },
      "source": [
        "#try no preprocessing\n",
        "sss = StratifiedShuffleSplit(n_splits=1, test_size=0.20, random_state=0)\n",
        "for train_index, test_index in sss.split(X, y):\n",
        "    x_train = X[train_index]\n",
        "    x_valid = X[test_index]\n",
        "    y_train = y[train_index]\n",
        "    y_valid = y[test_index]\n",
        "m = xgb.XGBClassifier(learning_rate =0.1, n_estimators=525, max_depth=8, min_child_weight=3, subsample=0.7, \n",
        "                      colsample_bytree=0.7, nthread=4, seed=42, objective='multi:softprob',\n",
        "                      tree_method='gpu_hist')\n",
        "m = xgb.XGBClassifier(n_estimators=1200, learning_rate =0.04, max_depth=20, min_child_weight=2, gamma=0.88,\n",
        "                      colsample_bytree=0.5, objective='multi:softprob', tree_method='gpu_hist')\n",
        "#m.fit(x_train, y_train)\n",
        "m.fit(X,y)\n",
        "#print(log_loss(y_valid, m.predict_proba(x_valid)))\n",
        "preds = m.predict_proba(testx)\n",
        "#submission to kaggle, preds is output on test set\n",
        "columns = ['Class_' + str(i + 1) for i in range(9)]\n",
        "submission_df = pd.DataFrame(preds, columns=columns)\n",
        "submission_df.index = submission_df.index + 1\n",
        "submission_df.to_csv('submission.csv', sep=',', index_label='id')"
      ],
      "execution_count": null,
      "outputs": []
    },
    {
      "cell_type": "code",
      "metadata": {
        "id": "XeUV1l6jh82s",
        "colab": {
          "base_uri": "https://localhost:8080/",
          "height": 34
        },
        "outputId": "e1db6c53-29ac-42c7-a372-dab1478aeccc"
      },
      "source": [
        "#try sqrt preprocessing\n",
        "sss = StratifiedShuffleSplit(n_splits=1, test_size=0.20, random_state=0)\n",
        "Xsqrt = np.sqrt(X+3.0/8)\n",
        "for train_index, test_index in sss.split(Xsqrt, y):\n",
        "    x_train = Xsqrt[train_index]\n",
        "    x_valid = Xsqrt[test_index]\n",
        "    y_train = y[train_index]\n",
        "    y_valid = y[test_index]\n",
        "m = xgb.XGBClassifier(learning_rate =0.1, n_estimators=525, max_depth=8, min_child_weight=3, subsample=0.7, \n",
        "                      colsample_bytree=0.7, seed=42, objective='multi:softprob',\n",
        "                      tree_method='gpu_hist')\n",
        "m.fit(x_train, y_train)\n",
        "print(log_loss(y_valid, m.predict_proba(x_valid)))"
      ],
      "execution_count": null,
      "outputs": [
        {
          "output_type": "stream",
          "text": [
            "0.43857332353472084\n"
          ],
          "name": "stdout"
        }
      ]
    },
    {
      "cell_type": "code",
      "metadata": {
        "id": "yHDFFdngjaMy",
        "colab": {
          "base_uri": "https://localhost:8080/",
          "height": 153
        },
        "outputId": "430d6c1c-5447-48a1-bff6-60bdd5f542ee"
      },
      "source": [
        "#randomized search\n",
        "params = {'min_child_weight': [1, 3, 5, 10],\n",
        "          'gamma': [0,1,2],\n",
        "          'subsample': [0.7, 1.0],\n",
        "          'colsample_bytree': [0.7, 1.0],\n",
        "          'max_depth': [4,6,8],\n",
        "          'n_estimators': [100,200,400,525,600]}\n",
        "m = xgb.XGBClassifier(learning_rate = 0.1, seed=42, objective='multi:softprob', tree_method='gpu_hist')\n",
        "clf = RandomizedSearchCV(m, params, scoring='neg_log_loss',cv=3, verbose=10, n_jobs=-1)\n",
        "best_model = clf.fit(X, y)"
      ],
      "execution_count": null,
      "outputs": [
        {
          "output_type": "stream",
          "text": [
            "Fitting 3 folds for each of 10 candidates, totalling 30 fits\n"
          ],
          "name": "stdout"
        },
        {
          "output_type": "stream",
          "text": [
            "[Parallel(n_jobs=-1)]: Using backend LokyBackend with 2 concurrent workers.\n",
            "[Parallel(n_jobs=-1)]: Done   1 tasks      | elapsed:   54.8s\n",
            "[Parallel(n_jobs=-1)]: Done   4 tasks      | elapsed:  1.8min\n",
            "[Parallel(n_jobs=-1)]: Done   9 tasks      | elapsed:  4.0min\n",
            "[Parallel(n_jobs=-1)]: Done  14 tasks      | elapsed:  7.6min\n",
            "[Parallel(n_jobs=-1)]: Done  21 tasks      | elapsed: 11.3min\n",
            "[Parallel(n_jobs=-1)]: Done  30 out of  30 | elapsed: 20.5min finished\n"
          ],
          "name": "stderr"
        }
      ]
    },
    {
      "cell_type": "code",
      "metadata": {
        "id": "4rzP3cEIoMSR",
        "colab": {
          "base_uri": "https://localhost:8080/",
          "height": 34
        },
        "outputId": "69d0d82c-2251-417f-c53d-5af8852acdf9"
      },
      "source": [
        "print(best_model.best_params_)"
      ],
      "execution_count": null,
      "outputs": [
        {
          "output_type": "stream",
          "text": [
            "{'subsample': 0.7, 'n_estimators': 525, 'min_child_weight': 5, 'max_depth': 8, 'gamma': 0, 'colsample_bytree': 0.7}\n"
          ],
          "name": "stdout"
        }
      ]
    },
    {
      "cell_type": "code",
      "metadata": {
        "id": "BoHGWEzYJpaM",
        "colab": {
          "base_uri": "https://localhost:8080/",
          "height": 34
        },
        "outputId": "78071def-a7f1-4060-b1de-2141615fb263"
      },
      "source": [
        "#run the (randomized search) best model on our split data\n",
        "sss = StratifiedShuffleSplit(n_splits=1, test_size=0.20, random_state=0)\n",
        "for train_index, test_index in sss.split(X, y):\n",
        "    x_train = X[train_index]\n",
        "    x_valid = X[test_index]\n",
        "    y_train = y[train_index]\n",
        "    y_valid = y[test_index]\n",
        "m = xgb.XGBClassifier(learning_rate =0.1, n_estimators=525, max_depth=8, min_child_weight=5, subsample=0.7, \n",
        "                      colsample_bytree=0.7, seed=42, objective='multi:softprob',\n",
        "                      tree_method='gpu_hist')\n",
        "m.fit(x_train,y_train)\n",
        "print(log_loss(y_valid, m.predict_proba(x_valid)))"
      ],
      "execution_count": null,
      "outputs": [
        {
          "output_type": "stream",
          "text": [
            "0.43889772881261285\n"
          ],
          "name": "stdout"
        }
      ]
    },
    {
      "cell_type": "code",
      "metadata": {
        "id": "0S0-R9eyNf6a",
        "colab": {
          "base_uri": "https://localhost:8080/",
          "height": 1000
        },
        "outputId": "3cf0f923-4d22-4993-8764-0b809e6ef21f"
      },
      "source": [
        "sss = StratifiedShuffleSplit(n_splits=1, test_size=0.20, random_state=0)\n",
        "for train_index, test_index in sss.split(X, y):\n",
        "    x_train = X[train_index]\n",
        "    x_valid = X[test_index]\n",
        "    y_train = y[train_index]\n",
        "    y_valid = y[test_index]\n",
        "m = xgb.XGBClassifier(learning_rate =0.1, n_estimators=525, max_depth=8, min_child_weight=3, subsample=0.7, \n",
        "                      colsample_bytree=0.7, seed=42, objective='multi:softprob',\n",
        "                      tree_method='gpu_hist')\n",
        "m.fit(x_train, y_train, eval_metric='mlogloss', early_stopping_rounds=20, eval_set=[(x_valid,y_valid)])\n",
        "print(log_loss(y_valid, m.predict_proba(x_valid)))\n",
        "print(log_loss(y_train, m.predict_proba(x_train)))"
      ],
      "execution_count": null,
      "outputs": [
        {
          "output_type": "stream",
          "text": [
            "[0]\tvalidation_0-mlogloss:1.97533\n",
            "Will train until validation_0-mlogloss hasn't improved in 20 rounds.\n",
            "[1]\tvalidation_0-mlogloss:1.81107\n",
            "[2]\tvalidation_0-mlogloss:1.68241\n",
            "[3]\tvalidation_0-mlogloss:1.57556\n",
            "[4]\tvalidation_0-mlogloss:1.4787\n",
            "[5]\tvalidation_0-mlogloss:1.39268\n",
            "[6]\tvalidation_0-mlogloss:1.32061\n",
            "[7]\tvalidation_0-mlogloss:1.25726\n",
            "[8]\tvalidation_0-mlogloss:1.20072\n",
            "[9]\tvalidation_0-mlogloss:1.14992\n",
            "[10]\tvalidation_0-mlogloss:1.10484\n",
            "[11]\tvalidation_0-mlogloss:1.06202\n",
            "[12]\tvalidation_0-mlogloss:1.02363\n",
            "[13]\tvalidation_0-mlogloss:0.988757\n",
            "[14]\tvalidation_0-mlogloss:0.959812\n",
            "[15]\tvalidation_0-mlogloss:0.932668\n",
            "[16]\tvalidation_0-mlogloss:0.90519\n",
            "[17]\tvalidation_0-mlogloss:0.881192\n",
            "[18]\tvalidation_0-mlogloss:0.85746\n",
            "[19]\tvalidation_0-mlogloss:0.836755\n",
            "[20]\tvalidation_0-mlogloss:0.816727\n",
            "[21]\tvalidation_0-mlogloss:0.799189\n",
            "[22]\tvalidation_0-mlogloss:0.782081\n",
            "[23]\tvalidation_0-mlogloss:0.766723\n",
            "[24]\tvalidation_0-mlogloss:0.751056\n",
            "[25]\tvalidation_0-mlogloss:0.738281\n",
            "[26]\tvalidation_0-mlogloss:0.725292\n",
            "[27]\tvalidation_0-mlogloss:0.714194\n",
            "[28]\tvalidation_0-mlogloss:0.703425\n",
            "[29]\tvalidation_0-mlogloss:0.693431\n",
            "[30]\tvalidation_0-mlogloss:0.68379\n",
            "[31]\tvalidation_0-mlogloss:0.674955\n",
            "[32]\tvalidation_0-mlogloss:0.666478\n",
            "[33]\tvalidation_0-mlogloss:0.658158\n",
            "[34]\tvalidation_0-mlogloss:0.651163\n",
            "[35]\tvalidation_0-mlogloss:0.643968\n",
            "[36]\tvalidation_0-mlogloss:0.636989\n",
            "[37]\tvalidation_0-mlogloss:0.630652\n",
            "[38]\tvalidation_0-mlogloss:0.624141\n",
            "[39]\tvalidation_0-mlogloss:0.618721\n",
            "[40]\tvalidation_0-mlogloss:0.613308\n",
            "[41]\tvalidation_0-mlogloss:0.608196\n",
            "[42]\tvalidation_0-mlogloss:0.603184\n",
            "[43]\tvalidation_0-mlogloss:0.598327\n",
            "[44]\tvalidation_0-mlogloss:0.594253\n",
            "[45]\tvalidation_0-mlogloss:0.590052\n",
            "[46]\tvalidation_0-mlogloss:0.585934\n",
            "[47]\tvalidation_0-mlogloss:0.581921\n",
            "[48]\tvalidation_0-mlogloss:0.578167\n",
            "[49]\tvalidation_0-mlogloss:0.574655\n",
            "[50]\tvalidation_0-mlogloss:0.571015\n",
            "[51]\tvalidation_0-mlogloss:0.567711\n",
            "[52]\tvalidation_0-mlogloss:0.564713\n",
            "[53]\tvalidation_0-mlogloss:0.561472\n",
            "[54]\tvalidation_0-mlogloss:0.558595\n",
            "[55]\tvalidation_0-mlogloss:0.556101\n",
            "[56]\tvalidation_0-mlogloss:0.553686\n",
            "[57]\tvalidation_0-mlogloss:0.551003\n",
            "[58]\tvalidation_0-mlogloss:0.548279\n",
            "[59]\tvalidation_0-mlogloss:0.546304\n",
            "[60]\tvalidation_0-mlogloss:0.544016\n",
            "[61]\tvalidation_0-mlogloss:0.541932\n",
            "[62]\tvalidation_0-mlogloss:0.539513\n",
            "[63]\tvalidation_0-mlogloss:0.537479\n",
            "[64]\tvalidation_0-mlogloss:0.535641\n",
            "[65]\tvalidation_0-mlogloss:0.533802\n",
            "[66]\tvalidation_0-mlogloss:0.531862\n",
            "[67]\tvalidation_0-mlogloss:0.530284\n",
            "[68]\tvalidation_0-mlogloss:0.528199\n",
            "[69]\tvalidation_0-mlogloss:0.526731\n",
            "[70]\tvalidation_0-mlogloss:0.525143\n",
            "[71]\tvalidation_0-mlogloss:0.523572\n",
            "[72]\tvalidation_0-mlogloss:0.522152\n",
            "[73]\tvalidation_0-mlogloss:0.52066\n",
            "[74]\tvalidation_0-mlogloss:0.519144\n",
            "[75]\tvalidation_0-mlogloss:0.517925\n",
            "[76]\tvalidation_0-mlogloss:0.516415\n",
            "[77]\tvalidation_0-mlogloss:0.515004\n",
            "[78]\tvalidation_0-mlogloss:0.513486\n",
            "[79]\tvalidation_0-mlogloss:0.512336\n",
            "[80]\tvalidation_0-mlogloss:0.511181\n",
            "[81]\tvalidation_0-mlogloss:0.510067\n",
            "[82]\tvalidation_0-mlogloss:0.508703\n",
            "[83]\tvalidation_0-mlogloss:0.50749\n",
            "[84]\tvalidation_0-mlogloss:0.506337\n",
            "[85]\tvalidation_0-mlogloss:0.505375\n",
            "[86]\tvalidation_0-mlogloss:0.504351\n",
            "[87]\tvalidation_0-mlogloss:0.503329\n",
            "[88]\tvalidation_0-mlogloss:0.502204\n",
            "[89]\tvalidation_0-mlogloss:0.501208\n",
            "[90]\tvalidation_0-mlogloss:0.500355\n",
            "[91]\tvalidation_0-mlogloss:0.49954\n",
            "[92]\tvalidation_0-mlogloss:0.498733\n",
            "[93]\tvalidation_0-mlogloss:0.497923\n",
            "[94]\tvalidation_0-mlogloss:0.497188\n",
            "[95]\tvalidation_0-mlogloss:0.496377\n",
            "[96]\tvalidation_0-mlogloss:0.49552\n",
            "[97]\tvalidation_0-mlogloss:0.494562\n",
            "[98]\tvalidation_0-mlogloss:0.493826\n",
            "[99]\tvalidation_0-mlogloss:0.492877\n",
            "[100]\tvalidation_0-mlogloss:0.491822\n",
            "[101]\tvalidation_0-mlogloss:0.491025\n",
            "[102]\tvalidation_0-mlogloss:0.490308\n",
            "[103]\tvalidation_0-mlogloss:0.489595\n",
            "[104]\tvalidation_0-mlogloss:0.488739\n",
            "[105]\tvalidation_0-mlogloss:0.488134\n",
            "[106]\tvalidation_0-mlogloss:0.487699\n",
            "[107]\tvalidation_0-mlogloss:0.487124\n",
            "[108]\tvalidation_0-mlogloss:0.486643\n",
            "[109]\tvalidation_0-mlogloss:0.48611\n",
            "[110]\tvalidation_0-mlogloss:0.485421\n",
            "[111]\tvalidation_0-mlogloss:0.484915\n",
            "[112]\tvalidation_0-mlogloss:0.484322\n",
            "[113]\tvalidation_0-mlogloss:0.483481\n",
            "[114]\tvalidation_0-mlogloss:0.482888\n",
            "[115]\tvalidation_0-mlogloss:0.482131\n",
            "[116]\tvalidation_0-mlogloss:0.481705\n",
            "[117]\tvalidation_0-mlogloss:0.480838\n",
            "[118]\tvalidation_0-mlogloss:0.480327\n",
            "[119]\tvalidation_0-mlogloss:0.479817\n",
            "[120]\tvalidation_0-mlogloss:0.479312\n",
            "[121]\tvalidation_0-mlogloss:0.478784\n",
            "[122]\tvalidation_0-mlogloss:0.478353\n",
            "[123]\tvalidation_0-mlogloss:0.477821\n",
            "[124]\tvalidation_0-mlogloss:0.477281\n",
            "[125]\tvalidation_0-mlogloss:0.476858\n",
            "[126]\tvalidation_0-mlogloss:0.476454\n",
            "[127]\tvalidation_0-mlogloss:0.475989\n",
            "[128]\tvalidation_0-mlogloss:0.475505\n",
            "[129]\tvalidation_0-mlogloss:0.475093\n",
            "[130]\tvalidation_0-mlogloss:0.474601\n",
            "[131]\tvalidation_0-mlogloss:0.474168\n",
            "[132]\tvalidation_0-mlogloss:0.473623\n",
            "[133]\tvalidation_0-mlogloss:0.473329\n",
            "[134]\tvalidation_0-mlogloss:0.473022\n",
            "[135]\tvalidation_0-mlogloss:0.472537\n",
            "[136]\tvalidation_0-mlogloss:0.472154\n",
            "[137]\tvalidation_0-mlogloss:0.471617\n",
            "[138]\tvalidation_0-mlogloss:0.471072\n",
            "[139]\tvalidation_0-mlogloss:0.470727\n",
            "[140]\tvalidation_0-mlogloss:0.470511\n",
            "[141]\tvalidation_0-mlogloss:0.47008\n",
            "[142]\tvalidation_0-mlogloss:0.469778\n",
            "[143]\tvalidation_0-mlogloss:0.469486\n",
            "[144]\tvalidation_0-mlogloss:0.469191\n",
            "[145]\tvalidation_0-mlogloss:0.468894\n",
            "[146]\tvalidation_0-mlogloss:0.468481\n",
            "[147]\tvalidation_0-mlogloss:0.468098\n",
            "[148]\tvalidation_0-mlogloss:0.467722\n",
            "[149]\tvalidation_0-mlogloss:0.467443\n",
            "[150]\tvalidation_0-mlogloss:0.467186\n",
            "[151]\tvalidation_0-mlogloss:0.466781\n",
            "[152]\tvalidation_0-mlogloss:0.466446\n",
            "[153]\tvalidation_0-mlogloss:0.466059\n",
            "[154]\tvalidation_0-mlogloss:0.465848\n",
            "[155]\tvalidation_0-mlogloss:0.465498\n",
            "[156]\tvalidation_0-mlogloss:0.465236\n",
            "[157]\tvalidation_0-mlogloss:0.464926\n",
            "[158]\tvalidation_0-mlogloss:0.464567\n",
            "[159]\tvalidation_0-mlogloss:0.464173\n",
            "[160]\tvalidation_0-mlogloss:0.463934\n",
            "[161]\tvalidation_0-mlogloss:0.463546\n",
            "[162]\tvalidation_0-mlogloss:0.463354\n",
            "[163]\tvalidation_0-mlogloss:0.463059\n",
            "[164]\tvalidation_0-mlogloss:0.462761\n",
            "[165]\tvalidation_0-mlogloss:0.462266\n",
            "[166]\tvalidation_0-mlogloss:0.462001\n",
            "[167]\tvalidation_0-mlogloss:0.461788\n",
            "[168]\tvalidation_0-mlogloss:0.461501\n",
            "[169]\tvalidation_0-mlogloss:0.46108\n",
            "[170]\tvalidation_0-mlogloss:0.460672\n",
            "[171]\tvalidation_0-mlogloss:0.460413\n",
            "[172]\tvalidation_0-mlogloss:0.460026\n",
            "[173]\tvalidation_0-mlogloss:0.459766\n",
            "[174]\tvalidation_0-mlogloss:0.459575\n",
            "[175]\tvalidation_0-mlogloss:0.459351\n",
            "[176]\tvalidation_0-mlogloss:0.459167\n",
            "[177]\tvalidation_0-mlogloss:0.458933\n",
            "[178]\tvalidation_0-mlogloss:0.458709\n",
            "[179]\tvalidation_0-mlogloss:0.45848\n",
            "[180]\tvalidation_0-mlogloss:0.458192\n",
            "[181]\tvalidation_0-mlogloss:0.457984\n",
            "[182]\tvalidation_0-mlogloss:0.45778\n",
            "[183]\tvalidation_0-mlogloss:0.457517\n",
            "[184]\tvalidation_0-mlogloss:0.457169\n",
            "[185]\tvalidation_0-mlogloss:0.456906\n",
            "[186]\tvalidation_0-mlogloss:0.456628\n",
            "[187]\tvalidation_0-mlogloss:0.456454\n",
            "[188]\tvalidation_0-mlogloss:0.456292\n",
            "[189]\tvalidation_0-mlogloss:0.45592\n",
            "[190]\tvalidation_0-mlogloss:0.455665\n",
            "[191]\tvalidation_0-mlogloss:0.455497\n",
            "[192]\tvalidation_0-mlogloss:0.455426\n",
            "[193]\tvalidation_0-mlogloss:0.455176\n",
            "[194]\tvalidation_0-mlogloss:0.454833\n",
            "[195]\tvalidation_0-mlogloss:0.454663\n",
            "[196]\tvalidation_0-mlogloss:0.454372\n",
            "[197]\tvalidation_0-mlogloss:0.454271\n",
            "[198]\tvalidation_0-mlogloss:0.454166\n",
            "[199]\tvalidation_0-mlogloss:0.454045\n",
            "[200]\tvalidation_0-mlogloss:0.453712\n",
            "[201]\tvalidation_0-mlogloss:0.453449\n",
            "[202]\tvalidation_0-mlogloss:0.453256\n",
            "[203]\tvalidation_0-mlogloss:0.453009\n",
            "[204]\tvalidation_0-mlogloss:0.452825\n",
            "[205]\tvalidation_0-mlogloss:0.452512\n",
            "[206]\tvalidation_0-mlogloss:0.452367\n",
            "[207]\tvalidation_0-mlogloss:0.452193\n",
            "[208]\tvalidation_0-mlogloss:0.451943\n",
            "[209]\tvalidation_0-mlogloss:0.451695\n",
            "[210]\tvalidation_0-mlogloss:0.45144\n",
            "[211]\tvalidation_0-mlogloss:0.451248\n",
            "[212]\tvalidation_0-mlogloss:0.451007\n",
            "[213]\tvalidation_0-mlogloss:0.450805\n",
            "[214]\tvalidation_0-mlogloss:0.45079\n",
            "[215]\tvalidation_0-mlogloss:0.450404\n",
            "[216]\tvalidation_0-mlogloss:0.450217\n",
            "[217]\tvalidation_0-mlogloss:0.449973\n",
            "[218]\tvalidation_0-mlogloss:0.449842\n",
            "[219]\tvalidation_0-mlogloss:0.44979\n",
            "[220]\tvalidation_0-mlogloss:0.449658\n",
            "[221]\tvalidation_0-mlogloss:0.449457\n",
            "[222]\tvalidation_0-mlogloss:0.449313\n",
            "[223]\tvalidation_0-mlogloss:0.449199\n",
            "[224]\tvalidation_0-mlogloss:0.448922\n",
            "[225]\tvalidation_0-mlogloss:0.44871\n",
            "[226]\tvalidation_0-mlogloss:0.448488\n",
            "[227]\tvalidation_0-mlogloss:0.448478\n",
            "[228]\tvalidation_0-mlogloss:0.448261\n",
            "[229]\tvalidation_0-mlogloss:0.448244\n",
            "[230]\tvalidation_0-mlogloss:0.447968\n",
            "[231]\tvalidation_0-mlogloss:0.447837\n",
            "[232]\tvalidation_0-mlogloss:0.447594\n",
            "[233]\tvalidation_0-mlogloss:0.447531\n",
            "[234]\tvalidation_0-mlogloss:0.44738\n",
            "[235]\tvalidation_0-mlogloss:0.447279\n",
            "[236]\tvalidation_0-mlogloss:0.447309\n",
            "[237]\tvalidation_0-mlogloss:0.447235\n",
            "[238]\tvalidation_0-mlogloss:0.447009\n",
            "[239]\tvalidation_0-mlogloss:0.446759\n",
            "[240]\tvalidation_0-mlogloss:0.446569\n",
            "[241]\tvalidation_0-mlogloss:0.446497\n",
            "[242]\tvalidation_0-mlogloss:0.446285\n",
            "[243]\tvalidation_0-mlogloss:0.446218\n",
            "[244]\tvalidation_0-mlogloss:0.446072\n",
            "[245]\tvalidation_0-mlogloss:0.44598\n",
            "[246]\tvalidation_0-mlogloss:0.445971\n",
            "[247]\tvalidation_0-mlogloss:0.44593\n",
            "[248]\tvalidation_0-mlogloss:0.445804\n",
            "[249]\tvalidation_0-mlogloss:0.445605\n",
            "[250]\tvalidation_0-mlogloss:0.445645\n",
            "[251]\tvalidation_0-mlogloss:0.445622\n",
            "[252]\tvalidation_0-mlogloss:0.445526\n",
            "[253]\tvalidation_0-mlogloss:0.445437\n",
            "[254]\tvalidation_0-mlogloss:0.445288\n",
            "[255]\tvalidation_0-mlogloss:0.445162\n",
            "[256]\tvalidation_0-mlogloss:0.445048\n",
            "[257]\tvalidation_0-mlogloss:0.444914\n",
            "[258]\tvalidation_0-mlogloss:0.444801\n",
            "[259]\tvalidation_0-mlogloss:0.444688\n",
            "[260]\tvalidation_0-mlogloss:0.444515\n",
            "[261]\tvalidation_0-mlogloss:0.444365\n",
            "[262]\tvalidation_0-mlogloss:0.444291\n",
            "[263]\tvalidation_0-mlogloss:0.444177\n",
            "[264]\tvalidation_0-mlogloss:0.444081\n",
            "[265]\tvalidation_0-mlogloss:0.443958\n",
            "[266]\tvalidation_0-mlogloss:0.443903\n",
            "[267]\tvalidation_0-mlogloss:0.443777\n",
            "[268]\tvalidation_0-mlogloss:0.443865\n",
            "[269]\tvalidation_0-mlogloss:0.443876\n",
            "[270]\tvalidation_0-mlogloss:0.443717\n",
            "[271]\tvalidation_0-mlogloss:0.443721\n",
            "[272]\tvalidation_0-mlogloss:0.443592\n",
            "[273]\tvalidation_0-mlogloss:0.443421\n",
            "[274]\tvalidation_0-mlogloss:0.443285\n",
            "[275]\tvalidation_0-mlogloss:0.443177\n",
            "[276]\tvalidation_0-mlogloss:0.442993\n",
            "[277]\tvalidation_0-mlogloss:0.442942\n",
            "[278]\tvalidation_0-mlogloss:0.442836\n",
            "[279]\tvalidation_0-mlogloss:0.442814\n",
            "[280]\tvalidation_0-mlogloss:0.44279\n",
            "[281]\tvalidation_0-mlogloss:0.442686\n",
            "[282]\tvalidation_0-mlogloss:0.442649\n",
            "[283]\tvalidation_0-mlogloss:0.442549\n",
            "[284]\tvalidation_0-mlogloss:0.442399\n",
            "[285]\tvalidation_0-mlogloss:0.442324\n",
            "[286]\tvalidation_0-mlogloss:0.442324\n",
            "[287]\tvalidation_0-mlogloss:0.442361\n",
            "[288]\tvalidation_0-mlogloss:0.442334\n",
            "[289]\tvalidation_0-mlogloss:0.442291\n",
            "[290]\tvalidation_0-mlogloss:0.442212\n",
            "[291]\tvalidation_0-mlogloss:0.442088\n",
            "[292]\tvalidation_0-mlogloss:0.441862\n",
            "[293]\tvalidation_0-mlogloss:0.441812\n",
            "[294]\tvalidation_0-mlogloss:0.441758\n",
            "[295]\tvalidation_0-mlogloss:0.441666\n",
            "[296]\tvalidation_0-mlogloss:0.441599\n",
            "[297]\tvalidation_0-mlogloss:0.441443\n",
            "[298]\tvalidation_0-mlogloss:0.441262\n",
            "[299]\tvalidation_0-mlogloss:0.441266\n",
            "[300]\tvalidation_0-mlogloss:0.44119\n",
            "[301]\tvalidation_0-mlogloss:0.441109\n",
            "[302]\tvalidation_0-mlogloss:0.441085\n",
            "[303]\tvalidation_0-mlogloss:0.440997\n",
            "[304]\tvalidation_0-mlogloss:0.441031\n",
            "[305]\tvalidation_0-mlogloss:0.441021\n",
            "[306]\tvalidation_0-mlogloss:0.440802\n",
            "[307]\tvalidation_0-mlogloss:0.440706\n",
            "[308]\tvalidation_0-mlogloss:0.440575\n",
            "[309]\tvalidation_0-mlogloss:0.440559\n",
            "[310]\tvalidation_0-mlogloss:0.440414\n",
            "[311]\tvalidation_0-mlogloss:0.440253\n",
            "[312]\tvalidation_0-mlogloss:0.440084\n",
            "[313]\tvalidation_0-mlogloss:0.440053\n",
            "[314]\tvalidation_0-mlogloss:0.439899\n",
            "[315]\tvalidation_0-mlogloss:0.439936\n",
            "[316]\tvalidation_0-mlogloss:0.439881\n",
            "[317]\tvalidation_0-mlogloss:0.439766\n",
            "[318]\tvalidation_0-mlogloss:0.439678\n",
            "[319]\tvalidation_0-mlogloss:0.439546\n",
            "[320]\tvalidation_0-mlogloss:0.439467\n",
            "[321]\tvalidation_0-mlogloss:0.439442\n",
            "[322]\tvalidation_0-mlogloss:0.439517\n",
            "[323]\tvalidation_0-mlogloss:0.439349\n",
            "[324]\tvalidation_0-mlogloss:0.439283\n",
            "[325]\tvalidation_0-mlogloss:0.439169\n",
            "[326]\tvalidation_0-mlogloss:0.439131\n",
            "[327]\tvalidation_0-mlogloss:0.439113\n",
            "[328]\tvalidation_0-mlogloss:0.439197\n",
            "[329]\tvalidation_0-mlogloss:0.439074\n",
            "[330]\tvalidation_0-mlogloss:0.438933\n",
            "[331]\tvalidation_0-mlogloss:0.438875\n",
            "[332]\tvalidation_0-mlogloss:0.438792\n",
            "[333]\tvalidation_0-mlogloss:0.438826\n",
            "[334]\tvalidation_0-mlogloss:0.438722\n",
            "[335]\tvalidation_0-mlogloss:0.438617\n",
            "[336]\tvalidation_0-mlogloss:0.438561\n",
            "[337]\tvalidation_0-mlogloss:0.438457\n",
            "[338]\tvalidation_0-mlogloss:0.438419\n",
            "[339]\tvalidation_0-mlogloss:0.438383\n",
            "[340]\tvalidation_0-mlogloss:0.438352\n",
            "[341]\tvalidation_0-mlogloss:0.43825\n",
            "[342]\tvalidation_0-mlogloss:0.438268\n",
            "[343]\tvalidation_0-mlogloss:0.438254\n",
            "[344]\tvalidation_0-mlogloss:0.438217\n",
            "[345]\tvalidation_0-mlogloss:0.438205\n",
            "[346]\tvalidation_0-mlogloss:0.438155\n",
            "[347]\tvalidation_0-mlogloss:0.438089\n",
            "[348]\tvalidation_0-mlogloss:0.438012\n",
            "[349]\tvalidation_0-mlogloss:0.43807\n",
            "[350]\tvalidation_0-mlogloss:0.43805\n",
            "[351]\tvalidation_0-mlogloss:0.43801\n",
            "[352]\tvalidation_0-mlogloss:0.437914\n",
            "[353]\tvalidation_0-mlogloss:0.437854\n",
            "[354]\tvalidation_0-mlogloss:0.437846\n",
            "[355]\tvalidation_0-mlogloss:0.437861\n",
            "[356]\tvalidation_0-mlogloss:0.437817\n",
            "[357]\tvalidation_0-mlogloss:0.437709\n",
            "[358]\tvalidation_0-mlogloss:0.437662\n",
            "[359]\tvalidation_0-mlogloss:0.437707\n",
            "[360]\tvalidation_0-mlogloss:0.437702\n",
            "[361]\tvalidation_0-mlogloss:0.43772\n",
            "[362]\tvalidation_0-mlogloss:0.437703\n",
            "[363]\tvalidation_0-mlogloss:0.437618\n",
            "[364]\tvalidation_0-mlogloss:0.437593\n",
            "[365]\tvalidation_0-mlogloss:0.437431\n",
            "[366]\tvalidation_0-mlogloss:0.437452\n",
            "[367]\tvalidation_0-mlogloss:0.437388\n",
            "[368]\tvalidation_0-mlogloss:0.437354\n",
            "[369]\tvalidation_0-mlogloss:0.437233\n",
            "[370]\tvalidation_0-mlogloss:0.437274\n",
            "[371]\tvalidation_0-mlogloss:0.437257\n",
            "[372]\tvalidation_0-mlogloss:0.437197\n",
            "[373]\tvalidation_0-mlogloss:0.437197\n",
            "[374]\tvalidation_0-mlogloss:0.437281\n",
            "[375]\tvalidation_0-mlogloss:0.437307\n",
            "[376]\tvalidation_0-mlogloss:0.437357\n",
            "[377]\tvalidation_0-mlogloss:0.437329\n",
            "[378]\tvalidation_0-mlogloss:0.437325\n",
            "[379]\tvalidation_0-mlogloss:0.437351\n",
            "[380]\tvalidation_0-mlogloss:0.437312\n",
            "[381]\tvalidation_0-mlogloss:0.437212\n",
            "[382]\tvalidation_0-mlogloss:0.437225\n",
            "[383]\tvalidation_0-mlogloss:0.437231\n",
            "[384]\tvalidation_0-mlogloss:0.437271\n",
            "[385]\tvalidation_0-mlogloss:0.4372\n",
            "[386]\tvalidation_0-mlogloss:0.437303\n",
            "[387]\tvalidation_0-mlogloss:0.43735\n",
            "[388]\tvalidation_0-mlogloss:0.43726\n",
            "[389]\tvalidation_0-mlogloss:0.437362\n",
            "[390]\tvalidation_0-mlogloss:0.437279\n",
            "[391]\tvalidation_0-mlogloss:0.437345\n",
            "[392]\tvalidation_0-mlogloss:0.437294\n",
            "Stopping. Best iteration:\n",
            "[372]\tvalidation_0-mlogloss:0.437197\n",
            "\n",
            "0.4371970745041631\n",
            "0.17524865116003024\n"
          ],
          "name": "stdout"
        }
      ]
    },
    {
      "cell_type": "code",
      "metadata": {
        "id": "8xRpaDortrd1"
      },
      "source": [
        "\n",
        "### concatenate outputs of first layer to create input to second layer\n"
      ],
      "execution_count": null,
      "outputs": []
    },
    {
      "cell_type": "code",
      "metadata": {
        "id": "StRsJw2ott_T"
      },
      "source": [
        "sss = StratifiedShuffleSplit(n_splits=1, test_size=0.20, random_state=0)\n",
        "for train_index, test_index in sss.split(X, y):\n",
        "    x_train = X[train_index]\n",
        "    x_valid = X[test_index]\n",
        "    y_train = y[train_index]\n",
        "    y_valid = y[test_index]"
      ],
      "execution_count": null,
      "outputs": []
    },
    {
      "cell_type": "code",
      "metadata": {
        "id": "TI75UN44uu3E"
      },
      "source": [
        "xgbtrain = np.loadtxt('drive/My Drive/Applied Machine Learning Team Otto/xgbtrain.txt')\n",
        "xgbvalid = np.loadtxt('drive/My Drive/Applied Machine Learning Team Otto/xgbvalid.txt')\n",
        "xgbtest = np.loadtxt('drive/My Drive/Applied Machine Learning Team Otto/xgbtest.txt')"
      ],
      "execution_count": null,
      "outputs": []
    },
    {
      "cell_type": "code",
      "metadata": {
        "id": "v5pl4wHfv25R",
        "colab": {
          "base_uri": "https://localhost:8080/",
          "height": 68
        },
        "outputId": "26a3a7c9-f564-4232-9aa0-6691db810ab9"
      },
      "source": [
        "print(xgbtrain.shape)\n",
        "print(xgbvalid.shape)\n",
        "print(xgbtest.shape)"
      ],
      "execution_count": null,
      "outputs": [
        {
          "output_type": "stream",
          "text": [
            "(49502, 9)\n",
            "(12376, 9)\n",
            "(144368, 9)\n"
          ],
          "name": "stdout"
        }
      ]
    },
    {
      "cell_type": "code",
      "metadata": {
        "id": "LawoZfQtwOdR"
      },
      "source": [
        "rftrain = np.loadtxt('drive/My Drive/Applied Machine Learning Team Otto/RFTrain.txt')\n",
        "rfvalid = np.loadtxt('drive/My Drive/Applied Machine Learning Team Otto/RFVal.txt')\n",
        "rftest = np.loadtxt('drive/My Drive/Applied Machine Learning Team Otto/RFTest.txt')\n",
        "assert(rftrain.shape == xgbtrain.shape)\n",
        "assert(rfvalid.shape == xgbvalid.shape)\n",
        "assert(rftest.shape == xgbtest.shape)"
      ],
      "execution_count": null,
      "outputs": []
    },
    {
      "cell_type": "code",
      "metadata": {
        "id": "lpqtj3pjwlHE"
      },
      "source": [
        "mlptrain = np.loadtxt('drive/My Drive/Applied Machine Learning Team Otto/mlp_train_pred.txt')\n",
        "mlpvalid = np.loadtxt('drive/My Drive/Applied Machine Learning Team Otto/mlp_val_pred.txt')\n",
        "mlptest = np.loadtxt('drive/My Drive/Applied Machine Learning Team Otto/mlp_test_pred.txt')\n",
        "assert(mlptrain.shape == xgbtrain.shape)\n",
        "assert(mlpvalid.shape == xgbvalid.shape)\n",
        "assert(mlptest.shape == xgbtest.shape)"
      ],
      "execution_count": null,
      "outputs": []
    },
    {
      "cell_type": "code",
      "metadata": {
        "id": "35xzycOCxDQO"
      },
      "source": [
        "logregtrain = np.loadtxt('drive/My Drive/Applied Machine Learning Team Otto/LogisticRegressionTrain.txt')\n",
        "logregvalid = np.loadtxt('drive/My Drive/Applied Machine Learning Team Otto/LogisticRegressionVal.txt')\n",
        "logregtest = np.loadtxt('drive/My Drive/Applied Machine Learning Team Otto/LogisticRegressionTest.txt')\n",
        "assert(logregtrain.shape == xgbtrain.shape)\n",
        "assert(logregvalid.shape == xgbvalid.shape)\n",
        "assert(logregtest.shape == xgbtest.shape)"
      ],
      "execution_count": null,
      "outputs": []
    },
    {
      "cell_type": "code",
      "metadata": {
        "id": "6STMKOVuxWuO"
      },
      "source": [
        "lgbmtrain = np.loadtxt('drive/My Drive/Applied Machine Learning Team Otto/lightgbm_train_pred.txt')\n",
        "lgbmvalid = np.loadtxt('drive/My Drive/Applied Machine Learning Team Otto/lightgbm_val_pred.txt')\n",
        "lgbmtest = np.loadtxt('drive/My Drive/Applied Machine Learning Team Otto/lightgbm_test_pred.txt')\n",
        "assert(lgbmtrain.shape == xgbtrain.shape)\n",
        "assert(lgbmvalid.shape == xgbvalid.shape)\n",
        "assert(lgbmtest.shape == xgbtest.shape)"
      ],
      "execution_count": null,
      "outputs": []
    },
    {
      "cell_type": "code",
      "metadata": {
        "id": "8_nJkgPyxpfu"
      },
      "source": [
        "knntrain = np.loadtxt('drive/My Drive/Applied Machine Learning Team Otto/KNNTrain.txt')\n",
        "knnvalid = np.loadtxt('drive/My Drive/Applied Machine Learning Team Otto/KNNVal.txt')\n",
        "knntest = np.loadtxt('drive/My Drive/Applied Machine Learning Team Otto/KNNTest.txt')\n",
        "assert(knntrain.shape == xgbtrain.shape)\n",
        "assert(knnvalid.shape == xgbvalid.shape)\n",
        "assert(knntest.shape == xgbtest.shape)"
      ],
      "execution_count": null,
      "outputs": []
    },
    {
      "cell_type": "code",
      "metadata": {
        "id": "rOEd2FzByBl3"
      },
      "source": [
        "catboosttrain = np.loadtxt('drive/My Drive/Applied Machine Learning Team Otto/cat_boost_train_pred.txt')\n",
        "catboostvalid = np.loadtxt('drive/My Drive/Applied Machine Learning Team Otto/cat_boost_val_pred.txt')\n",
        "catboosttest = np.loadtxt('drive/My Drive/Applied Machine Learning Team Otto/cat_boost_test_pred.txt')\n",
        "assert(catboosttrain.shape == xgbtrain.shape)\n",
        "assert(catboostvalid.shape == xgbvalid.shape)\n",
        "assert(catboosttest.shape == xgbtest.shape)"
      ],
      "execution_count": null,
      "outputs": []
    },
    {
      "cell_type": "code",
      "metadata": {
        "id": "7CoUeNgSypGR"
      },
      "source": [
        "extratreestrain = np.loadtxt('drive/My Drive/Applied Machine Learning Team Otto/ExtraTrees/ExtraTrees_100depth_train.txt')\n",
        "extratreesvalid = np.loadtxt('drive/My Drive/Applied Machine Learning Team Otto/ExtraTrees/ExtraTrees_100depth_val.txt')\n",
        "extratreestest = np.loadtxt('drive/My Drive/Applied Machine Learning Team Otto/ExtraTrees/ExtraTrees_100depth_test.txt')\n",
        "assert(extratreestrain.shape == xgbtrain.shape)\n",
        "assert(extratreesvalid.shape == xgbvalid.shape)\n",
        "assert(extratreestest.shape == xgbtest.shape)"
      ],
      "execution_count": null,
      "outputs": []
    },
    {
      "cell_type": "code",
      "metadata": {
        "id": "Y-dZ1OQFy8BP",
        "colab": {
          "base_uri": "https://localhost:8080/",
          "height": 68
        },
        "outputId": "482eb95e-63af-4e11-9864-c64c3ee87a7d"
      },
      "source": [
        "xtrain_2ndlayer = np.hstack((x_train, xgbtrain, rftrain, mlptrain, logregtrain, lgbmtrain, knntrain, catboosttrain, extratreestrain))\n",
        "xvalid_2ndlayer = np.hstack((x_valid, xgbvalid, rfvalid, mlpvalid, logregvalid, lgbmvalid, knnvalid, catboostvalid, extratreesvalid))\n",
        "xtest_2ndlayer = np.hstack((testx, xgbtest, rftest, mlptest, logregtest, lgbmtest, knntest, catboosttest, extratreestest))\n",
        "print(xtrain_2ndlayer.shape)\n",
        "print(xvalid_2ndlayer.shape)\n",
        "print(xtest_2ndlayer.shape)"
      ],
      "execution_count": null,
      "outputs": [
        {
          "output_type": "stream",
          "text": [
            "(49502, 165)\n",
            "(12376, 165)\n",
            "(144368, 165)\n"
          ],
          "name": "stdout"
        }
      ]
    },
    {
      "cell_type": "code",
      "metadata": {
        "id": "VEeZKhLy0pAF"
      },
      "source": [
        "#save inputs to 2nd layer in google drive\n",
        "np.savetxt('drive/My Drive/Applied Machine Learning Team Otto/xtrain_2ndlayer.txt',xtrain_2ndlayer)\n",
        "np.savetxt('drive/My Drive/Applied Machine Learning Team Otto/xvalid_2ndlayer.txt',xvalid_2ndlayer)\n",
        "np.savetxt('drive/My Drive/Applied Machine Learning Team Otto/xtest_2ndlayer.txt',xtest_2ndlayer)"
      ],
      "execution_count": null,
      "outputs": []
    },
    {
      "cell_type": "code",
      "metadata": {
        "id": "UKfDrFCRA2nb"
      },
      "source": [
        "xtrain_2ndlayer = np.loadtxt('drive/My Drive/Applied Machine Learning Team Otto/xtrain_2ndlayer.txt')\n",
        "xvalid_2ndlayer = np.loadtxt('drive/My Drive/Applied Machine Learning Team Otto/xvalid_2ndlayer.txt')\n",
        "xtest_2ndlayer = np.loadtxt('drive/My Drive/Applied Machine Learning Team Otto/xtest_2ndlayer.txt')\n",
        "# xtrain_2ndlayer = np.loadtxt('/content/drive/My Drive/Applied Machine Learning Team Otto/everyting2ndlayer_train.txt')\n",
        "# xvalid_2ndlayer = np.loadtxt('/content/drive/My Drive/Applied Machine Learning Team Otto/everyting2ndlayer_valid.txt')\n",
        "# xtest_2ndlayer = np.loadtxt('/content/drive/My Drive/Applied Machine Learning Team Otto/everyting2ndlayer_test.txt')"
      ],
      "execution_count": null,
      "outputs": []
    },
    {
      "cell_type": "code",
      "metadata": {
        "id": "Z3QatMLy22N5",
        "colab": {
          "base_uri": "https://localhost:8080/",
          "height": 1000
        },
        "outputId": "6f14ddb9-3db1-4664-f826-5b6ddccf8b69"
      },
      "source": [
        "#\n",
        "# xgboost second layer\n",
        "#\n",
        "print(time.asctime())\n",
        "# best result on 93cols + 8 models (x_2ndlayer, not everything2ndlayer_ above)\n",
        "m = xgb.XGBClassifier(colsample_bylevel=0.25,\n",
        "                      colsample_bytree=0.05, gamma=0,\n",
        "                      learning_rate=0.05, max_depth=6,\n",
        "                      min_child_weight=6, n_estimators=300, nthread=-1,\n",
        "                      objective='multi:softprob', reg_alpha=0, reg_lambda=1,\n",
        "                      scale_pos_weight=1, seed=0, silent=True, subsample=0.8,\n",
        "                      tree_method='gpu_hist')\n",
        "\n",
        "# work in progress model\n",
        "# m = xgb.XGBClassifier(colsample_bylevel=0.1,\n",
        "#                       colsample_bytree=0.05, gamma=0,\n",
        "#                       learning_rate=0.05, max_depth=10,\n",
        "#                       min_child_weight=6, n_estimators=300, nthread=-1,\n",
        "#                       objective='multi:softprob', reg_alpha=0, reg_lambda=1,\n",
        "#                       scale_pos_weight=1, seed=0, silent=True, subsample=0.8,\n",
        "#                       tree_method='gpu_hist')\n",
        "\n",
        "\n",
        "m.fit(xtrain_2ndlayer, y_train, eval_metric='mlogloss', early_stopping_rounds=20, eval_set=[(xvalid_2ndlayer, y_valid)])\n",
        "print(log_loss(y_valid, m.predict_proba(xvalid_2ndlayer)))\n",
        "print(log_loss(y_train, m.predict_proba(xtrain_2ndlayer)))\n",
        "print(time.asctime())"
      ],
      "execution_count": null,
      "outputs": [
        {
          "output_type": "stream",
          "text": [
            "Sat Feb 22 18:01:01 2020\n",
            "[0]\tvalidation_0-mlogloss:2.11556\n",
            "Will train until validation_0-mlogloss hasn't improved in 20 rounds.\n",
            "[1]\tvalidation_0-mlogloss:2.05602\n",
            "[2]\tvalidation_0-mlogloss:2.01796\n",
            "[3]\tvalidation_0-mlogloss:1.95281\n",
            "[4]\tvalidation_0-mlogloss:1.90648\n",
            "[5]\tvalidation_0-mlogloss:1.88089\n",
            "[6]\tvalidation_0-mlogloss:1.80737\n",
            "[7]\tvalidation_0-mlogloss:1.73455\n",
            "[8]\tvalidation_0-mlogloss:1.69169\n",
            "[9]\tvalidation_0-mlogloss:1.65235\n",
            "[10]\tvalidation_0-mlogloss:1.62223\n",
            "[11]\tvalidation_0-mlogloss:1.57472\n",
            "[12]\tvalidation_0-mlogloss:1.53567\n",
            "[13]\tvalidation_0-mlogloss:1.49204\n",
            "[14]\tvalidation_0-mlogloss:1.45981\n",
            "[15]\tvalidation_0-mlogloss:1.43105\n",
            "[16]\tvalidation_0-mlogloss:1.40368\n",
            "[17]\tvalidation_0-mlogloss:1.38314\n",
            "[18]\tvalidation_0-mlogloss:1.35343\n",
            "[19]\tvalidation_0-mlogloss:1.32331\n",
            "[20]\tvalidation_0-mlogloss:1.31214\n",
            "[21]\tvalidation_0-mlogloss:1.29174\n",
            "[22]\tvalidation_0-mlogloss:1.27832\n",
            "[23]\tvalidation_0-mlogloss:1.25662\n",
            "[24]\tvalidation_0-mlogloss:1.23134\n",
            "[25]\tvalidation_0-mlogloss:1.19646\n",
            "[26]\tvalidation_0-mlogloss:1.18235\n",
            "[27]\tvalidation_0-mlogloss:1.16427\n",
            "[28]\tvalidation_0-mlogloss:1.14805\n",
            "[29]\tvalidation_0-mlogloss:1.1237\n",
            "[30]\tvalidation_0-mlogloss:1.10758\n",
            "[31]\tvalidation_0-mlogloss:1.09491\n",
            "[32]\tvalidation_0-mlogloss:1.07868\n",
            "[33]\tvalidation_0-mlogloss:1.06281\n",
            "[34]\tvalidation_0-mlogloss:1.04801\n",
            "[35]\tvalidation_0-mlogloss:1.0344\n",
            "[36]\tvalidation_0-mlogloss:1.01976\n",
            "[37]\tvalidation_0-mlogloss:1.00502\n",
            "[38]\tvalidation_0-mlogloss:0.989482\n",
            "[39]\tvalidation_0-mlogloss:0.978279\n",
            "[40]\tvalidation_0-mlogloss:0.965319\n",
            "[41]\tvalidation_0-mlogloss:0.953314\n",
            "[42]\tvalidation_0-mlogloss:0.932415\n",
            "[43]\tvalidation_0-mlogloss:0.922245\n",
            "[44]\tvalidation_0-mlogloss:0.911899\n",
            "[45]\tvalidation_0-mlogloss:0.900096\n",
            "[46]\tvalidation_0-mlogloss:0.886576\n",
            "[47]\tvalidation_0-mlogloss:0.878189\n",
            "[48]\tvalidation_0-mlogloss:0.867655\n",
            "[49]\tvalidation_0-mlogloss:0.863139\n",
            "[50]\tvalidation_0-mlogloss:0.852588\n",
            "[51]\tvalidation_0-mlogloss:0.843888\n",
            "[52]\tvalidation_0-mlogloss:0.833974\n",
            "[53]\tvalidation_0-mlogloss:0.8245\n",
            "[54]\tvalidation_0-mlogloss:0.81963\n",
            "[55]\tvalidation_0-mlogloss:0.810717\n",
            "[56]\tvalidation_0-mlogloss:0.804306\n",
            "[57]\tvalidation_0-mlogloss:0.794736\n",
            "[58]\tvalidation_0-mlogloss:0.788369\n",
            "[59]\tvalidation_0-mlogloss:0.782988\n",
            "[60]\tvalidation_0-mlogloss:0.77635\n",
            "[61]\tvalidation_0-mlogloss:0.770418\n",
            "[62]\tvalidation_0-mlogloss:0.758571\n",
            "[63]\tvalidation_0-mlogloss:0.752947\n",
            "[64]\tvalidation_0-mlogloss:0.745697\n",
            "[65]\tvalidation_0-mlogloss:0.741354\n",
            "[66]\tvalidation_0-mlogloss:0.735633\n",
            "[67]\tvalidation_0-mlogloss:0.731013\n",
            "[68]\tvalidation_0-mlogloss:0.727356\n",
            "[69]\tvalidation_0-mlogloss:0.720893\n",
            "[70]\tvalidation_0-mlogloss:0.717296\n",
            "[71]\tvalidation_0-mlogloss:0.711058\n",
            "[72]\tvalidation_0-mlogloss:0.704676\n",
            "[73]\tvalidation_0-mlogloss:0.696398\n",
            "[74]\tvalidation_0-mlogloss:0.691265\n",
            "[75]\tvalidation_0-mlogloss:0.686297\n",
            "[76]\tvalidation_0-mlogloss:0.680711\n",
            "[77]\tvalidation_0-mlogloss:0.674972\n",
            "[78]\tvalidation_0-mlogloss:0.67146\n",
            "[79]\tvalidation_0-mlogloss:0.665577\n",
            "[80]\tvalidation_0-mlogloss:0.660525\n",
            "[81]\tvalidation_0-mlogloss:0.655414\n",
            "[82]\tvalidation_0-mlogloss:0.65086\n",
            "[83]\tvalidation_0-mlogloss:0.644944\n",
            "[84]\tvalidation_0-mlogloss:0.640136\n",
            "[85]\tvalidation_0-mlogloss:0.635947\n",
            "[86]\tvalidation_0-mlogloss:0.631965\n",
            "[87]\tvalidation_0-mlogloss:0.626087\n",
            "[88]\tvalidation_0-mlogloss:0.621467\n",
            "[89]\tvalidation_0-mlogloss:0.618841\n",
            "[90]\tvalidation_0-mlogloss:0.614577\n",
            "[91]\tvalidation_0-mlogloss:0.612919\n",
            "[92]\tvalidation_0-mlogloss:0.609821\n",
            "[93]\tvalidation_0-mlogloss:0.605532\n",
            "[94]\tvalidation_0-mlogloss:0.601394\n",
            "[95]\tvalidation_0-mlogloss:0.598859\n",
            "[96]\tvalidation_0-mlogloss:0.596749\n",
            "[97]\tvalidation_0-mlogloss:0.594796\n",
            "[98]\tvalidation_0-mlogloss:0.591964\n",
            "[99]\tvalidation_0-mlogloss:0.588792\n",
            "[100]\tvalidation_0-mlogloss:0.58806\n",
            "[101]\tvalidation_0-mlogloss:0.585992\n",
            "[102]\tvalidation_0-mlogloss:0.584657\n",
            "[103]\tvalidation_0-mlogloss:0.580988\n",
            "[104]\tvalidation_0-mlogloss:0.57807\n",
            "[105]\tvalidation_0-mlogloss:0.576094\n",
            "[106]\tvalidation_0-mlogloss:0.574324\n",
            "[107]\tvalidation_0-mlogloss:0.573077\n",
            "[108]\tvalidation_0-mlogloss:0.570577\n",
            "[109]\tvalidation_0-mlogloss:0.568984\n",
            "[110]\tvalidation_0-mlogloss:0.567471\n",
            "[111]\tvalidation_0-mlogloss:0.565334\n",
            "[112]\tvalidation_0-mlogloss:0.56281\n",
            "[113]\tvalidation_0-mlogloss:0.560704\n",
            "[114]\tvalidation_0-mlogloss:0.558672\n",
            "[115]\tvalidation_0-mlogloss:0.557532\n",
            "[116]\tvalidation_0-mlogloss:0.555733\n",
            "[117]\tvalidation_0-mlogloss:0.554398\n",
            "[118]\tvalidation_0-mlogloss:0.553042\n",
            "[119]\tvalidation_0-mlogloss:0.552102\n",
            "[120]\tvalidation_0-mlogloss:0.549539\n",
            "[121]\tvalidation_0-mlogloss:0.548395\n",
            "[122]\tvalidation_0-mlogloss:0.547511\n",
            "[123]\tvalidation_0-mlogloss:0.545892\n",
            "[124]\tvalidation_0-mlogloss:0.544135\n",
            "[125]\tvalidation_0-mlogloss:0.542712\n",
            "[126]\tvalidation_0-mlogloss:0.541363\n",
            "[127]\tvalidation_0-mlogloss:0.540715\n",
            "[128]\tvalidation_0-mlogloss:0.539164\n",
            "[129]\tvalidation_0-mlogloss:0.538256\n",
            "[130]\tvalidation_0-mlogloss:0.536901\n",
            "[131]\tvalidation_0-mlogloss:0.535494\n",
            "[132]\tvalidation_0-mlogloss:0.534207\n",
            "[133]\tvalidation_0-mlogloss:0.532116\n",
            "[134]\tvalidation_0-mlogloss:0.532299\n",
            "[135]\tvalidation_0-mlogloss:0.531608\n",
            "[136]\tvalidation_0-mlogloss:0.531246\n",
            "[137]\tvalidation_0-mlogloss:0.530003\n",
            "[138]\tvalidation_0-mlogloss:0.529999\n",
            "[139]\tvalidation_0-mlogloss:0.52945\n",
            "[140]\tvalidation_0-mlogloss:0.52797\n",
            "[141]\tvalidation_0-mlogloss:0.52656\n",
            "[142]\tvalidation_0-mlogloss:0.525345\n",
            "[143]\tvalidation_0-mlogloss:0.524751\n",
            "[144]\tvalidation_0-mlogloss:0.523194\n",
            "[145]\tvalidation_0-mlogloss:0.522134\n",
            "[146]\tvalidation_0-mlogloss:0.521455\n",
            "[147]\tvalidation_0-mlogloss:0.520626\n",
            "[148]\tvalidation_0-mlogloss:0.520087\n",
            "[149]\tvalidation_0-mlogloss:0.519115\n",
            "[150]\tvalidation_0-mlogloss:0.519106\n",
            "[151]\tvalidation_0-mlogloss:0.517983\n",
            "[152]\tvalidation_0-mlogloss:0.518774\n",
            "[153]\tvalidation_0-mlogloss:0.518022\n",
            "[154]\tvalidation_0-mlogloss:0.516773\n",
            "[155]\tvalidation_0-mlogloss:0.515893\n",
            "[156]\tvalidation_0-mlogloss:0.515678\n",
            "[157]\tvalidation_0-mlogloss:0.514696\n",
            "[158]\tvalidation_0-mlogloss:0.514636\n",
            "[159]\tvalidation_0-mlogloss:0.514369\n",
            "[160]\tvalidation_0-mlogloss:0.513117\n",
            "[161]\tvalidation_0-mlogloss:0.512568\n",
            "[162]\tvalidation_0-mlogloss:0.511799\n",
            "[163]\tvalidation_0-mlogloss:0.511312\n",
            "[164]\tvalidation_0-mlogloss:0.510369\n",
            "[165]\tvalidation_0-mlogloss:0.509656\n",
            "[166]\tvalidation_0-mlogloss:0.50929\n",
            "[167]\tvalidation_0-mlogloss:0.508704\n",
            "[168]\tvalidation_0-mlogloss:0.508051\n",
            "[169]\tvalidation_0-mlogloss:0.508583\n",
            "[170]\tvalidation_0-mlogloss:0.507964\n",
            "[171]\tvalidation_0-mlogloss:0.506998\n",
            "[172]\tvalidation_0-mlogloss:0.50636\n",
            "[173]\tvalidation_0-mlogloss:0.505899\n",
            "[174]\tvalidation_0-mlogloss:0.505175\n",
            "[175]\tvalidation_0-mlogloss:0.504775\n",
            "[176]\tvalidation_0-mlogloss:0.504356\n",
            "[177]\tvalidation_0-mlogloss:0.504951\n",
            "[178]\tvalidation_0-mlogloss:0.504356\n",
            "[179]\tvalidation_0-mlogloss:0.50388\n",
            "[180]\tvalidation_0-mlogloss:0.50309\n",
            "[181]\tvalidation_0-mlogloss:0.502844\n",
            "[182]\tvalidation_0-mlogloss:0.502611\n",
            "[183]\tvalidation_0-mlogloss:0.502075\n",
            "[184]\tvalidation_0-mlogloss:0.50204\n",
            "[185]\tvalidation_0-mlogloss:0.501868\n",
            "[186]\tvalidation_0-mlogloss:0.501024\n",
            "[187]\tvalidation_0-mlogloss:0.501194\n",
            "[188]\tvalidation_0-mlogloss:0.501202\n",
            "[189]\tvalidation_0-mlogloss:0.501306\n",
            "[190]\tvalidation_0-mlogloss:0.501501\n",
            "[191]\tvalidation_0-mlogloss:0.501507\n",
            "[192]\tvalidation_0-mlogloss:0.500865\n",
            "[193]\tvalidation_0-mlogloss:0.501832\n",
            "[194]\tvalidation_0-mlogloss:0.502306\n",
            "[195]\tvalidation_0-mlogloss:0.502476\n",
            "[196]\tvalidation_0-mlogloss:0.501621\n",
            "[197]\tvalidation_0-mlogloss:0.50135\n",
            "[198]\tvalidation_0-mlogloss:0.500496\n",
            "[199]\tvalidation_0-mlogloss:0.500017\n",
            "[200]\tvalidation_0-mlogloss:0.499846\n",
            "[201]\tvalidation_0-mlogloss:0.499359\n",
            "[202]\tvalidation_0-mlogloss:0.499137\n",
            "[203]\tvalidation_0-mlogloss:0.498822\n",
            "[204]\tvalidation_0-mlogloss:0.498397\n",
            "[205]\tvalidation_0-mlogloss:0.498422\n",
            "[206]\tvalidation_0-mlogloss:0.499121\n",
            "[207]\tvalidation_0-mlogloss:0.499046\n",
            "[208]\tvalidation_0-mlogloss:0.49997\n",
            "[209]\tvalidation_0-mlogloss:0.4995\n",
            "[210]\tvalidation_0-mlogloss:0.499938\n",
            "[211]\tvalidation_0-mlogloss:0.499508\n",
            "[212]\tvalidation_0-mlogloss:0.499717\n",
            "[213]\tvalidation_0-mlogloss:0.498879\n",
            "[214]\tvalidation_0-mlogloss:0.498798\n",
            "[215]\tvalidation_0-mlogloss:0.49935\n",
            "[216]\tvalidation_0-mlogloss:0.499607\n",
            "[217]\tvalidation_0-mlogloss:0.499924\n",
            "[218]\tvalidation_0-mlogloss:0.499453\n",
            "[219]\tvalidation_0-mlogloss:0.499262\n",
            "[220]\tvalidation_0-mlogloss:0.499197\n",
            "[221]\tvalidation_0-mlogloss:0.499941\n",
            "[222]\tvalidation_0-mlogloss:0.499849\n",
            "[223]\tvalidation_0-mlogloss:0.49964\n",
            "[224]\tvalidation_0-mlogloss:0.500791\n",
            "Stopping. Best iteration:\n",
            "[204]\tvalidation_0-mlogloss:0.498397\n",
            "\n",
            "0.49839675090738395\n",
            "0.049109131041571955\n",
            "Sat Feb 22 18:01:15 2020\n"
          ],
          "name": "stdout"
        }
      ]
    },
    {
      "cell_type": "code",
      "metadata": {
        "id": "WELI6zEDD6ab"
      },
      "source": [
        "np.savetxt('drive/My Drive/Applied Machine Learning Team Otto/xgboost_2ndlayeroutput_train.txt',m.predict_proba(xtrain_2ndlayer))\n",
        "np.savetxt('drive/My Drive/Applied Machine Learning Team Otto/xgboost_2ndlayeroutput_val.txt',m.predict_proba(xvalid_2ndlayer))\n",
        "np.savetxt('drive/My Drive/Applied Machine Learning Team Otto/xgboost_2ndlayeroutput_test.txt',m.predict_proba(xtest_2ndlayer))"
      ],
      "execution_count": null,
      "outputs": []
    },
    {
      "cell_type": "code",
      "metadata": {
        "id": "IHHgijkVduVL"
      },
      "source": [
        "#make sure m is defined correctly, and that testx has had the needed preprocessing steps applied\n",
        "preds = m.predict_proba(xtest_2ndlayer)\n",
        "#submission to kaggle, preds is output on test set\n",
        "columns = ['Class_' + str(i + 1) for i in range(9)]\n",
        "submission_df = pd.DataFrame(preds, columns=columns)\n",
        "submission_df.index = submission_df.index + 1\n",
        "submission_df.to_csv('submission.csv', sep=',', index_label='id')"
      ],
      "execution_count": null,
      "outputs": []
    },
    {
      "cell_type": "code",
      "metadata": {
        "id": "-p7xTqDYdPy6"
      },
      "source": [
        ""
      ],
      "execution_count": null,
      "outputs": []
    }
  ]
}